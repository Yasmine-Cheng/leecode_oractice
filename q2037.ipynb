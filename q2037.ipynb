{
 "cells": [
  {
   "cell_type": "markdown",
   "metadata": {},
   "source": [
    "2037. Minimum Number of Moves to Seat Everyone\n",
    "Solved\n",
    "Easy\n",
    "Topics\n",
    "Companies\n",
    "Hint\n",
    "\n",
    "There are n availabe seats and n students standing in a room. You are given an array seats of length n, where seats[i] is the position of the ith seat. You are also given the array students of length n, where students[j] is the position of the jth student.\n",
    "\n",
    "You may perform the following move any number of times:\n",
    "\n",
    "    Increase or decrease the position of the ith student by 1 (i.e., moving the ith student from position x to x + 1 or x - 1)\n",
    "\n",
    "Return the minimum number of moves required to move each student to a seat such that no two students are in the same seat.\n",
    "\n",
    "Note that there may be multiple seats or students in the same position at the beginning."
   ]
  },
  {
   "cell_type": "markdown",
   "metadata": {},
   "source": [
    "Example 1:\n",
    "\n",
    "Input: seats = [3,1,5], students = [2,7,4]\n",
    "\n",
    "Output: 4\n",
    "\n",
    "Explanation: The students are moved as follows:\n",
    "\n",
    "    The first student is moved from from position 2 to position 1 using 1 move.\n",
    "    The second student is moved from from position 7 to position 5 using 2 moves.\n",
    "    The third student is moved from from position 4 to position 3 using 1 move.\n",
    "\n",
    "In total, 1 + 2 + 1 = 4 moves were used.\n"
   ]
  },
  {
   "cell_type": "markdown",
   "metadata": {},
   "source": [
    "Example 2:\n",
    "\n",
    "Input: seats = [4,1,5,9], students = [1,3,2,6]\n",
    "\n",
    "Output: 7\n",
    "\n",
    "Explanation: The students are moved as follows:\n",
    "\n",
    "    The first student is not moved.\n",
    "    The second student is moved from from position 3 to position 4 using 1 move.\n",
    "    The third student is moved from from position 2 to position 5 using 3 moves.\n",
    "    The fourth student is moved from from position 6 to position 9 using 3 moves.\n",
    "\n",
    "In total, 0 + 1 + 3 + 3 = 7 moves were used."
   ]
  },
  {
   "cell_type": "markdown",
   "metadata": {},
   "source": [
    "Example 3:\n",
    "\n",
    "Input: seats = [2,2,6,6], students = [1,3,2,6]\n",
    "\n",
    "Output: 4\n",
    "\n",
    "Explanation: Note that there are two seats at position 2 and two seats at position 6.\n",
    "\n",
    "The students are moved as follows:\n",
    "    The first student is moved from from position 1 to position 2 using 1 move.\n",
    "    The second student is moved from from position 3 to position 6 using 3 moves.\n",
    "    The third student is not moved.\n",
    "    The fourth student is not moved.\n",
    "\n",
    "In total, 1 + 3 + 0 + 0 = 4 moves were used."
   ]
  },
  {
   "cell_type": "markdown",
   "metadata": {},
   "source": [
    "Constraints:\n",
    "* n== seats.length == students.length\n",
    "* 1 <= n <= 100\n",
    "* 1 <= seats[i], students[j] <= 100"
   ]
  },
  {
   "cell_type": "code",
   "execution_count": null,
   "metadata": {},
   "outputs": [],
   "source": [
    "class Solution(object):\n",
    "    def minMovesToSeat(self, seats, students):\n",
    "        \"\"\"\n",
    "        :type seats: List[int]\n",
    "        :type students: List[int]\n",
    "        :rtype: int\n",
    "        \"\"\"\n",
    "        result = 0\n",
    "        seats.sort()\n",
    "        students.sort()\n",
    "        for i in range(len(seats)):\n",
    "            result += abs(seats[i] - students[i])\n",
    "        return result"
   ]
  }
 ],
 "metadata": {
  "kernelspec": {
   "display_name": "base",
   "language": "python",
   "name": "python3"
  },
  "language_info": {
   "codemirror_mode": {
    "name": "ipython",
    "version": 3
   },
   "file_extension": ".py",
   "mimetype": "text/x-python",
   "name": "python",
   "nbconvert_exporter": "python",
   "pygments_lexer": "ipython3",
   "version": "3.10.9"
  },
  "orig_nbformat": 4
 },
 "nbformat": 4,
 "nbformat_minor": 2
}
