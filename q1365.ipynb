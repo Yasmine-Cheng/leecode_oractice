{
 "cells": [
  {
   "cell_type": "markdown",
   "metadata": {},
   "source": [
    "1365. How Many Numbers Are Smaller Than the Current Number\n",
    "Solved\n",
    "Easy\n",
    "Topics\n",
    "Companies\n",
    "Hint\n",
    "\n",
    "Given the array nums, for each nums[i] find out how many numbers in the array are smaller than it. That is, for each nums[i] you have to count the number of valid j's such that j != i and nums[j] < nums[i].\n",
    "\n",
    "Return the answer in an array."
   ]
  },
  {
   "cell_type": "markdown",
   "metadata": {},
   "source": [
    "Example 1:\n",
    "\n",
    "Input: nums = [8,1,2,2,3]\n",
    "\n",
    "Output: [4,0,1,1,3]\n",
    "\n",
    "Explanation: \n",
    "\n",
    "    For nums[0]=8 there exist four smaller numbers than it (1, 2, 2 and 3). \n",
    "    For nums[1]=1 does not exist any smaller number than it.\n",
    "    For nums[2]=2 there exist one smaller number than it (1). \n",
    "    For nums[3]=2 there exist one smaller number than it (1). \n",
    "    For nums[4]=3 there exist three smaller numbers than it (1, 2 and 2)."
   ]
  },
  {
   "cell_type": "markdown",
   "metadata": {},
   "source": [
    "Example 2:\n",
    "\n",
    "Input: nums = [6,5,4,8]\n",
    "\n",
    "Output: [2,1,0,3]"
   ]
  },
  {
   "cell_type": "markdown",
   "metadata": {},
   "source": [
    "Example 3:\n",
    "\n",
    "Input: nums = [7,7,7,7]\n",
    "\n",
    "Output: [0,0,0,0]"
   ]
  },
  {
   "cell_type": "markdown",
   "metadata": {},
   "source": [
    "Constraints:\n",
    "* 2 <= nums.length <= 500\n",
    "* 0 <= nums[i] <= 100"
   ]
  },
  {
   "cell_type": "code",
   "execution_count": null,
   "metadata": {},
   "outputs": [],
   "source": [
    "import numpy as np\n",
    "class Solution(object):\n",
    "    def smallerNumbersThanCurrent(self, nums):\n",
    "        \"\"\"\n",
    "        :type nums: List[int]\n",
    "        :rtype: List[int]\n",
    "        \"\"\"\n",
    "        result = []\n",
    "        for i in range(len(nums)):\n",
    "            count=0\n",
    "            for j in range(len(nums)):\n",
    "                if nums[i]>nums[j]:\n",
    "                    count+=1\n",
    "            result.append(count)\n",
    "        return result"
   ]
  }
 ],
 "metadata": {
  "kernelspec": {
   "display_name": "base",
   "language": "python",
   "name": "python3"
  },
  "language_info": {
   "codemirror_mode": {
    "name": "ipython",
    "version": 3
   },
   "file_extension": ".py",
   "mimetype": "text/x-python",
   "name": "python",
   "nbconvert_exporter": "python",
   "pygments_lexer": "ipython3",
   "version": "3.10.9"
  },
  "orig_nbformat": 4
 },
 "nbformat": 4,
 "nbformat_minor": 2
}
