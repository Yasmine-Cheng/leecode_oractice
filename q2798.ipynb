{
 "cells": [
  {
   "cell_type": "markdown",
   "metadata": {},
   "source": [
    "2798. Number of Employees Who Met the Target\n",
    "Solved\n",
    "Easy\n",
    "Topics\n",
    "Companies\n",
    "Hint\n",
    "\n",
    "There are n employees in a company, numbered from 0 to n - 1. Each employee i has worked for hours[i] hours in the company.\n",
    "\n",
    "The company requires each employee to work for at least target hours.\n",
    "\n",
    "You are given a 0-indexed array of non-negative integers hours of length n and a non-negative integer target.\n",
    "\n",
    "Return the integer denoting the number of employees who worked at least target hours."
   ]
  },
  {
   "cell_type": "markdown",
   "metadata": {},
   "source": [
    "Example 1:\n",
    "\n",
    "Input: hours = [0,1,2,3,4], target = 2\n",
    "\n",
    "Output: 3\n",
    "\n",
    "Explanation: The company wants each employee to work for at least 2 hours.\n",
    "\n",
    "    Employee 0 worked for 0 hours and didn't meet the target.\n",
    "    Employee 1 worked for 1 hours and didn't meet the target.\n",
    "    Employee 2 worked for 2 hours and met the target.\n",
    "    Employee 3 worked for 3 hours and met the target.\n",
    "    Employee 4 worked for 4 hours and met the target.\n",
    "\n",
    "There are 3 employees who met the target."
   ]
  },
  {
   "cell_type": "markdown",
   "metadata": {},
   "source": [
    "Example 2:\n",
    "\n",
    "Input: hours = [5,1,4,2,2], target = 6\n",
    "\n",
    "Output: 0\n",
    "\n",
    "Explanation: The company wants each employee to work for at least 6 hours.\n",
    "\n",
    "There are 0 employees who met the target.\n"
   ]
  },
  {
   "cell_type": "markdown",
   "metadata": {},
   "source": [
    "Constraints:\n",
    "* 1 <= n == hours.length <= 50\n",
    "* 0 <= hours[i], target <= 105"
   ]
  },
  {
   "cell_type": "code",
   "execution_count": null,
   "metadata": {},
   "outputs": [],
   "source": [
    "class Solution:\n",
    "    def numberOfEmployeesWhoMetTarget(self, hours: List[int], target: int) -> int:\n",
    "        result = 0\n",
    "        for i in hours:\n",
    "            if i>=target:\n",
    "                result += 1\n",
    "        return result"
   ]
  },
  {
   "cell_type": "code",
   "execution_count": null,
   "metadata": {},
   "outputs": [],
   "source": []
  },
  {
   "cell_type": "code",
   "execution_count": null,
   "metadata": {},
   "outputs": [],
   "source": []
  }
 ],
 "metadata": {
  "kernelspec": {
   "display_name": "base",
   "language": "python",
   "name": "python3"
  },
  "language_info": {
   "codemirror_mode": {
    "name": "ipython",
    "version": 3
   },
   "file_extension": ".py",
   "mimetype": "text/x-python",
   "name": "python",
   "nbconvert_exporter": "python",
   "pygments_lexer": "ipython3",
   "version": "3.10.9"
  },
  "orig_nbformat": 4
 },
 "nbformat": 4,
 "nbformat_minor": 2
}
