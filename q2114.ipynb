{
 "cells": [
  {
   "cell_type": "markdown",
   "metadata": {},
   "source": [
    "2114. Maximum Number of Words Found in Sentences\n",
    "Solved\n",
    "Easy\n",
    "Topics\n",
    "Companies\n",
    "Hint\n",
    "\n",
    "A sentence is a list of words that are separated by a single space with no leading or trailing spaces.\n",
    "\n",
    "You are given an array of strings sentences, where each sentences[i] represents a single sentence.\n",
    "\n",
    "Return the maximum number of words that appear in a single sentence."
   ]
  },
  {
   "cell_type": "markdown",
   "metadata": {},
   "source": [
    "Example 1:\n",
    "\n",
    "Input: sentences = [\"alice and bob love leetcode\", \"i think so too\", \"this is great thanks very much\"]\n",
    "\n",
    "Output: 6\n",
    "\n",
    "Explanation: \n",
    "    \n",
    "    The first sentence, \"alice and bob love leetcode\", has 5 words in total.\n",
    "    The second sentence, \"i think so too\", has 4 words in total.\n",
    "    The third sentence, \"this is great thanks very much\", has 6 words in total.\n",
    "\n",
    "Thus, the maximum number of words in a single sentence comes from the third sentence, which has 6 words.\n"
   ]
  },
  {
   "cell_type": "markdown",
   "metadata": {},
   "source": [
    "Example 2:\n",
    "\n",
    "Input: sentences = [\"please wait\", \"continue to fight\", \"continue to win\"]\n",
    "\n",
    "Output: 3\n",
    "\n",
    "Explanation: It is possible that multiple sentences contain the same number of words. \n",
    "\n",
    "In this example, the second and third sentences (underlined) have the same number of words.\n"
   ]
  },
  {
   "cell_type": "markdown",
   "metadata": {},
   "source": [
    "Constraints:\n",
    "* 1 <= sentences.length <= 100\n",
    "* 1 <= sentences[i].length <= 100\n",
    "* sentences[i] consists only of lowercase English letters and ' ' only.\n",
    "* sentences[i] does not have leading or trailing spaces.\n",
    "* All the words in sentences[i] are separated by a single space."
   ]
  },
  {
   "cell_type": "code",
   "execution_count": null,
   "metadata": {},
   "outputs": [],
   "source": [
    "class Solution(object):\n",
    "    def mostWordsFound(self, sentences):\n",
    "        \"\"\"\n",
    "        :type sentences: List[str]\n",
    "        :rtype: int\n",
    "        \"\"\"\n",
    "        result = 0\n",
    "        for i in sentences:\n",
    "            if result<len(i.split(' ')):\n",
    "                result = len(i.split(' '))\n",
    "        return result  "
   ]
  },
  {
   "cell_type": "code",
   "execution_count": null,
   "metadata": {},
   "outputs": [],
   "source": []
  },
  {
   "cell_type": "code",
   "execution_count": null,
   "metadata": {},
   "outputs": [],
   "source": []
  }
 ],
 "metadata": {
  "kernelspec": {
   "display_name": "base",
   "language": "python",
   "name": "python3"
  },
  "language_info": {
   "codemirror_mode": {
    "name": "ipython",
    "version": 3
   },
   "file_extension": ".py",
   "mimetype": "text/x-python",
   "name": "python",
   "nbconvert_exporter": "python",
   "pygments_lexer": "ipython3",
   "version": "3.10.9"
  },
  "orig_nbformat": 4
 },
 "nbformat": 4,
 "nbformat_minor": 2
}
