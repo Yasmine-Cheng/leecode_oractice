{
 "cells": [
  {
   "cell_type": "markdown",
   "metadata": {},
   "source": [
    "2011. Final Value of Variable After Performing Operations\n",
    "Easy\n",
    "Topics\n",
    "Companies\n",
    "Hint\n",
    "\n",
    "There is a programming language with only four operations and one variable X:\n",
    "\n",
    "    ++X and X++ increments the value of the variable X by 1.\n",
    "    --X and X-- decrements the value of the variable X by 1.\n",
    "\n",
    "Initially, the value of X is 0.\n",
    "\n",
    "Given an array of strings operations containing a list of operations, return the final value of X after performing all the operations."
   ]
  },
  {
   "cell_type": "markdown",
   "metadata": {},
   "source": [
    "Example 1:\n",
    "\n",
    "Input: operations = [\"--X\",\"X++\",\"X++\"]\n",
    "\n",
    "Output: 1\n",
    "\n",
    "Explanation: The operations are performed as follows:\n",
    "\n",
    "Initially, X = 0.\n",
    "\n",
    "* --X: X is decremented by 1, X =  0 - 1 = -1.\n",
    "* X++: X is incremented by 1, X = -1 + 1 =  0.\n",
    "* X++: X is incremented by 1, X =  0 + 1 =  1.\n"
   ]
  },
  {
   "cell_type": "markdown",
   "metadata": {},
   "source": [
    "Example 2:\n",
    "\n",
    "Input: operations = [\"++X\",\"++X\",\"X++\"]\n",
    "\n",
    "Output: 3\n",
    "\n",
    "Explanation: The operations are performed as follows:\n",
    "\n",
    "Initially, X = 0.\n",
    "* ++X: X is incremented by 1, X = 0 + 1 = 1.\n",
    "* ++X: X is incremented by 1, X = 1 + 1 = 2.\n",
    "* X++: X is incremented by 1, X = 2 + 1 = 3.\n"
   ]
  },
  {
   "cell_type": "markdown",
   "metadata": {},
   "source": [
    "Example 3:\n",
    "\n",
    "Input: operations = [\"X++\",\"++X\",\"--X\",\"X--\"]\n",
    "\n",
    "Output: 0\n",
    "\n",
    "Explanation: The operations are performed as follows:\n",
    "\n",
    "Initially, X = 0.\n",
    "* X++: X is incremented by 1, X = 0 + 1 = 1.\n",
    "* ++X: X is incremented by 1, X = 1 + 1 = 2.\n",
    "* --X: X is decremented by 1, X = 2 - 1 = 1.\n",
    "* X--: X is decremented by 1, X = 1 - 1 = 0.\n"
   ]
  },
  {
   "cell_type": "markdown",
   "metadata": {},
   "source": [
    "Constraints:\n",
    "* 1 <= operations.length <= 100\n",
    "* operations[i] will be either \"++X\", \"X++\", \"--X\", or \"X--\"."
   ]
  },
  {
   "cell_type": "code",
   "execution_count": null,
   "metadata": {},
   "outputs": [],
   "source": [
    "class Solution(object):\n",
    "    def finalValueAfterOperations(self, operations):\n",
    "        \"\"\"\n",
    "        :type operations: List[str]\n",
    "        :rtype: int\n",
    "        \"\"\"\n",
    "        result = 0\n",
    "        for i in operations:\n",
    "            if \"+\" in i:\n",
    "                result+=1\n",
    "            else:\n",
    "                result-=1\n",
    "        return result"
   ]
  },
  {
   "cell_type": "code",
   "execution_count": null,
   "metadata": {},
   "outputs": [],
   "source": [
    "class Solution(object):\n",
    "    def finalValueAfterOperations(self, operations):\n",
    "        \"\"\"\n",
    "        :type operations: List[str]\n",
    "        :rtype: int\n",
    "        \"\"\"\n",
    "        result = 0\n",
    "        for i in operations:\n",
    "            if \"-\" in i:\n",
    "                result+=1\n",
    "        return len(operations)-2*result"
   ]
  }
 ],
 "metadata": {
  "kernelspec": {
   "display_name": "base",
   "language": "python",
   "name": "python3"
  },
  "language_info": {
   "codemirror_mode": {
    "name": "ipython",
    "version": 3
   },
   "file_extension": ".py",
   "mimetype": "text/x-python",
   "name": "python",
   "nbconvert_exporter": "python",
   "pygments_lexer": "ipython3",
   "version": "3.10.9"
  },
  "orig_nbformat": 4
 },
 "nbformat": 4,
 "nbformat_minor": 2
}
