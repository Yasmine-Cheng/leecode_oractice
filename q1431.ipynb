{
 "cells": [
  {
   "cell_type": "markdown",
   "metadata": {},
   "source": [
    "1431. Kids With the Greatest Number of Candies\n",
    "Solved\n",
    "Easy\n",
    "Topics\n",
    "Companies\n",
    "Hint\n",
    "\n",
    "There are n kids with candies. You are given an integer array candies, where each candies[i] represents the number of candies the ith kid has, and an integer extraCandies, denoting the number of extra candies that you have.\n",
    "\n",
    "Return a boolean array result of length n, where result[i] is true if, after giving the ith kid all the extraCandies, they will have the greatest number of candies among all the kids, or false otherwise.\n",
    "\n",
    "Note that multiple kids can have the greatest number of candies."
   ]
  },
  {
   "cell_type": "markdown",
   "metadata": {},
   "source": [
    "Example 1:\n",
    "\n",
    "Input: candies = [2,3,5,1,3], extraCandies = 3\n",
    "\n",
    "Output: [true,true,true,false,true] \n",
    "\n",
    "Explanation: If you give all extraCandies to:\n",
    "\n",
    "    Kid 1, they will have 2 + 3 = 5 candies, which is the greatest among the kids.\n",
    "    Kid 2, they will have 3 + 3 = 6 candies, which is the greatest among the kids.\n",
    "    Kid 3, they will have 5 + 3 = 8 candies, which is the greatest among the kids.\n",
    "    Kid 4, they will have 1 + 3 = 4 candies, which is not the greatest among the kids.\n",
    "    Kid 5, they will have 3 + 3 = 6 candies, which is the greatest among the kids."
   ]
  },
  {
   "cell_type": "markdown",
   "metadata": {},
   "source": [
    "Example 2:\n",
    "\n",
    "Input: candies = [4,2,1,1,2], extraCandies = 1\n",
    "\n",
    "Output: [true,false,false,false,false] \n",
    "\n",
    "Explanation: There is only 1 extra candy.\n",
    "\n",
    "Kid 1 will always have the greatest number of candies, even if a different kid is given the extra candy.\n"
   ]
  },
  {
   "cell_type": "markdown",
   "metadata": {},
   "source": [
    "Example 3:\n",
    "\n",
    "Input: candies = [12,1,12], extraCandies = 10\n",
    "\n",
    "Output: [true,false,true]"
   ]
  },
  {
   "cell_type": "markdown",
   "metadata": {},
   "source": [
    "Constraints:\n",
    "* n == candies.length\n",
    "* 2 <= n <= 100\n",
    "* 1 <= candies[i] <= 100\n",
    "* 1 <= extraCandies <= 50"
   ]
  },
  {
   "cell_type": "code",
   "execution_count": null,
   "metadata": {},
   "outputs": [],
   "source": [
    "class Solution(object):\n",
    "    def kidsWithCandies(self, candies, extraCandies):\n",
    "        \"\"\"\n",
    "        :type candies: List[int]\n",
    "        :type extraCandies: int\n",
    "        :rtype: List[bool]\n",
    "        \"\"\"\n",
    "        maxInt = max(candies)\n",
    "        result = [True if (i+extraCandies)>=maxInt else False for i in candies]\n",
    "        return result"
   ]
  },
  {
   "cell_type": "code",
   "execution_count": null,
   "metadata": {},
   "outputs": [],
   "source": []
  },
  {
   "cell_type": "code",
   "execution_count": null,
   "metadata": {},
   "outputs": [],
   "source": []
  }
 ],
 "metadata": {
  "kernelspec": {
   "display_name": "base",
   "language": "python",
   "name": "python3"
  },
  "language_info": {
   "codemirror_mode": {
    "name": "ipython",
    "version": 3
   },
   "file_extension": ".py",
   "mimetype": "text/x-python",
   "name": "python",
   "nbconvert_exporter": "python",
   "pygments_lexer": "ipython3",
   "version": "3.10.9"
  },
  "orig_nbformat": 4
 },
 "nbformat": 4,
 "nbformat_minor": 2
}
